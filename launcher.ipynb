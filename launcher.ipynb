{
 "cells": [
  {
   "cell_type": "code",
   "execution_count": 1,
   "metadata": {},
   "outputs": [],
   "source": [
    "import train"
   ]
  },
  {
   "cell_type": "code",
   "execution_count": 2,
   "metadata": {},
   "outputs": [
    {
     "name": "stderr",
     "output_type": "stream",
     "text": [
      "/home/edoardo/miniconda3/envs/MLDL3/lib/python3.9/site-packages/torch/nn/functional.py:3737: UserWarning: nn.functional.upsample is deprecated. Use nn.functional.interpolate instead.\n",
      "  warnings.warn(\"nn.functional.upsample is deprecated. Use nn.functional.interpolate instead.\")\n"
     ]
    },
    {
     "name": "stdout",
     "output_type": "stream",
     "text": [
      "epoch: 0000, train_loss: 0.2161, val_loss: 0.0626, train_time 50.4862, val_time 24.1103\n",
      "epoch: 0001, train_loss: 0.1199, val_loss: 0.0476, train_time 52.2979, val_time 25.6034\n",
      "epoch: 0002, train_loss: 0.1102, val_loss: 0.0454, train_time 52.9396, val_time 25.6192\n",
      "epoch: 0003, train_loss: 0.0992, val_loss: 0.0481, train_time 52.2478, val_time 26.0047\n",
      "epoch: 0004, train_loss: 0.0943, val_loss: 0.0385, train_time 52.8145, val_time 25.9920\n"
     ]
    }
   ],
   "source": [
    "train.main()"
   ]
  }
 ],
 "metadata": {
  "kernelspec": {
   "display_name": "MLDL3",
   "language": "python",
   "name": "python3"
  },
  "language_info": {
   "codemirror_mode": {
    "name": "ipython",
    "version": 3
   },
   "file_extension": ".py",
   "mimetype": "text/x-python",
   "name": "python",
   "nbconvert_exporter": "python",
   "pygments_lexer": "ipython3",
   "version": "3.9.16"
  },
  "orig_nbformat": 4
 },
 "nbformat": 4,
 "nbformat_minor": 2
}
