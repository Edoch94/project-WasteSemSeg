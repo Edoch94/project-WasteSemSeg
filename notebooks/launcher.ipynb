{
 "cells": [
  {
   "cell_type": "code",
   "execution_count": 1,
   "metadata": {},
   "outputs": [],
   "source": [
    "import train"
   ]
  },
  {
   "cell_type": "code",
   "execution_count": 2,
   "metadata": {},
   "outputs": [
    {
     "name": "stderr",
     "output_type": "stream",
     "text": [
      "/home/edoardo/miniconda3/envs/MLDL3/lib/python3.9/site-packages/torch/nn/functional.py:3737: UserWarning: nn.functional.upsample is deprecated. Use nn.functional.interpolate instead.\n",
      "  warnings.warn(\"nn.functional.upsample is deprecated. Use nn.functional.interpolate instead.\")\n"
     ]
    },
    {
     "name": "stdout",
     "output_type": "stream",
     "text": [
      "epoch: 0001, train_loss: 0.2059, val_loss: 0.0482, train_time 95.0062, val_time 32.4377\n"
     ]
    },
    {
     "ename": "KeyboardInterrupt",
     "evalue": "",
     "output_type": "error",
     "traceback": [
      "\u001b[0;31m---------------------------------------------------------------------------\u001b[0m",
      "\u001b[0;31mKeyboardInterrupt\u001b[0m                         Traceback (most recent call last)",
      "Cell \u001b[0;32mIn[2], line 1\u001b[0m\n\u001b[0;32m----> 1\u001b[0m train\u001b[39m.\u001b[39;49mmain()\n",
      "File \u001b[0;32m~/Documents/project-WasteSemSeg/train.py:81\u001b[0m, in \u001b[0;36mmain\u001b[0;34m()\u001b[0m\n\u001b[1;32m     79\u001b[0m epoch\u001b[39m+\u001b[39m\u001b[39m=\u001b[39m\u001b[39m1\u001b[39m\n\u001b[1;32m     80\u001b[0m _t[\u001b[39m'\u001b[39m\u001b[39mtrain time\u001b[39m\u001b[39m'\u001b[39m]\u001b[39m.\u001b[39mtic()\n\u001b[0;32m---> 81\u001b[0m train_loss \u001b[39m=\u001b[39m fit(train_loader, net, criterion, optimizer)\n\u001b[1;32m     82\u001b[0m _t[\u001b[39m'\u001b[39m\u001b[39mtrain time\u001b[39m\u001b[39m'\u001b[39m]\u001b[39m.\u001b[39mtoc(average\u001b[39m=\u001b[39m\u001b[39mFalse\u001b[39;00m)\n\u001b[1;32m     83\u001b[0m \u001b[39m# print('training time of one epoch: {:.2f}s'.format(_t['train time'].diff))\u001b[39;00m\n",
      "File \u001b[0;32m~/Documents/project-WasteSemSeg/train.py:120\u001b[0m, in \u001b[0;36mfit\u001b[0;34m(train_loader, net, criterion, optimizer)\u001b[0m\n\u001b[1;32m    117\u001b[0m     loss\u001b[39m.\u001b[39mbackward()\n\u001b[1;32m    118\u001b[0m     optimizer\u001b[39m.\u001b[39mstep()\n\u001b[0;32m--> 120\u001b[0m     loss_ \u001b[39m+\u001b[39m\u001b[39m=\u001b[39m criterion(outputs, labels\u001b[39m.\u001b[39;49munsqueeze(\u001b[39m1\u001b[39;49m)\u001b[39m.\u001b[39;49mfloat())\u001b[39m.\u001b[39;49mitem()\n\u001b[1;32m    122\u001b[0m mean_loss \u001b[39m=\u001b[39m loss_\u001b[39m/\u001b[39m\u001b[39mlen\u001b[39m(val_loader)\n\u001b[1;32m    124\u001b[0m \u001b[39mreturn\u001b[39;00m mean_loss\n",
      "\u001b[0;31mKeyboardInterrupt\u001b[0m: "
     ]
    }
   ],
   "source": [
    "train.main()"
   ]
  },
  {
   "cell_type": "code",
   "execution_count": 1,
   "metadata": {},
   "outputs": [],
   "source": [
    "%load_ext tensorboard"
   ]
  },
  {
   "cell_type": "code",
   "execution_count": 2,
   "metadata": {
    "vscode": {
     "languageId": "shellscript"
    }
   },
   "outputs": [
    {
     "data": {
      "text/html": [
       "\n",
       "      <iframe id=\"tensorboard-frame-a486206e5124ebb0\" width=\"100%\" height=\"800\" frameborder=\"0\">\n",
       "      </iframe>\n",
       "      <script>\n",
       "        (function() {\n",
       "          const frame = document.getElementById(\"tensorboard-frame-a486206e5124ebb0\");\n",
       "          const url = new URL(\"http://localhost\");\n",
       "          const port = 6006;\n",
       "          if (port) {\n",
       "            url.port = port;\n",
       "          }\n",
       "          frame.src = url;\n",
       "        })();\n",
       "      </script>\n",
       "    "
      ],
      "text/plain": [
       "<IPython.core.display.HTML object>"
      ]
     },
     "metadata": {},
     "output_type": "display_data"
    }
   ],
   "source": [
    "tensorboard --logdir=\"runs/May18_00-20-34_edoch-ubuntu-xmg./exp/Enet_23-05-18_00-20-33_encoder_Enet_city_(224, 448)_lr_0.0005\""
   ]
  }
 ],
 "metadata": {
  "kernelspec": {
   "display_name": "MLDL3",
   "language": "python",
   "name": "python3"
  },
  "language_info": {
   "codemirror_mode": {
    "name": "ipython",
    "version": 3
   },
   "file_extension": ".py",
   "mimetype": "text/x-python",
   "name": "python",
   "nbconvert_exporter": "python",
   "pygments_lexer": "ipython3",
   "version": "3.9.16"
  },
  "orig_nbformat": 4
 },
 "nbformat": 4,
 "nbformat_minor": 2
}
