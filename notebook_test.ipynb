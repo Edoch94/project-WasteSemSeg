{
 "cells": [
  {
   "cell_type": "code",
   "execution_count": null,
   "metadata": {},
   "outputs": [],
   "source": [
    "from pathlib import Path\n",
    "\n",
    "Path('home')"
   ]
  },
  {
   "cell_type": "code",
   "execution_count": 1,
   "metadata": {},
   "outputs": [],
   "source": [
    "import torch"
   ]
  },
  {
   "cell_type": "code",
   "execution_count": 18,
   "metadata": {},
   "outputs": [
    {
     "name": "stdout",
     "output_type": "stream",
     "text": [
      "0 2 0\n",
      "1 2 1\n",
      "2 2 0\n",
      "3 2 1\n",
      "4 2 0\n",
      "5 2 1\n",
      "6 2 0\n",
      "7 2 1\n",
      "8 2 0\n",
      "9 2 1\n"
     ]
    }
   ],
   "source": [
    "a = 10\n",
    "b = 2\n",
    "\n",
    "for i in range(a):\n",
    "    print(i,b,i%2)\n",
    "    # if i%2:\n",
    "    # else "
   ]
  }
 ],
 "metadata": {
  "kernelspec": {
   "display_name": "MLDL1",
   "language": "python",
   "name": "python3"
  },
  "language_info": {
   "codemirror_mode": {
    "name": "ipython",
    "version": 3
   },
   "file_extension": ".py",
   "mimetype": "text/x-python",
   "name": "python",
   "nbconvert_exporter": "python",
   "pygments_lexer": "ipython3",
   "version": "3.9.16"
  },
  "orig_nbformat": 4
 },
 "nbformat": 4,
 "nbformat_minor": 2
}
